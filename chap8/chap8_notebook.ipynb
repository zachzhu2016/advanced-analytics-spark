{
 "cells": [
  {
   "cell_type": "code",
   "execution_count": 24,
   "metadata": {
    "scrolled": true
   },
   "outputs": [],
   "source": [
    "import pyspark\n",
    "from pyspark import SparkContext, SparkConf\n",
    "from pyspark.sql import Row, SparkSession, DataFrame\n",
    "from pyspark.sql.types import *\n",
    "import os, json\n",
    "from itertools import islice\n",
    "from datetime import datetime\n",
    "from arcgis.geometry import Point, Polyline, Polygon, Geometry, GeometryFactory, SpatialReference\n",
    "\n",
    "# JARFILE = \"./ch08-geotime-2.0.0-jar-with-dependencies.jar\"\n",
    "GEOJSON = \"./nyc-boroughs.geojson\"\n",
    "TRIPDATA = \"./trip_data_1.csv\"\n",
    "WKID = 4326\n",
    "\n",
    "def window(it, n=2):\n",
    "    result = tuple(islice(it, n))\n",
    "    if len(result) == n:\n",
    "        yield result\n",
    "    for elem in it:\n",
    "        result = result[1:] + (elem,)\n",
    "        yield result\n",
    "\n",
    "def parserow(row):\n",
    "    license = row[1]\n",
    "    pickup_datetime, dropoff_datetime = None, None\n",
    "    pickup_loc, dropoff_loc = None, None\n",
    "\n",
    "    parsefailed = False\n",
    "    try:\n",
    "        pickup_datetime = datetime.strptime(row[5], '%Y-%m-%d %H:%M:%S')\n",
    "        dropoff_datetime = datetime.strptime(row[6], '%Y-%m-%d %H:%M:%S')\n",
    "    except:\n",
    "        pickup_datetime = datetime(1970, 1, 1)\n",
    "        dropoff_datetime = datetime(1970, 1, 1)\n",
    "        parsefailed = True\n",
    "\n",
    "    try:\n",
    "        #pickup_loc = Point({'x': float(row[10]), 'y': float(row[11]), 'spatialReference': {'wkid': WKID}})\n",
    "        #dropoff_loc = Point({'x': float(row[12]), 'y': float(row[13]), 'spatialReference': {'wkid': WKID}})\n",
    "        pickup_loc = {'x': float(row[10]), 'y': float(row[11])}\n",
    "        dropoff_loc = {'x': float(row[12]), 'y': float(row[13])}\n",
    "    except:\n",
    "        #pickup_loc = Point({'x': 0.0, 'y': 0.0, 'spatialReference': {'wkid': WKID}})\n",
    "        #dropoff_loc = Point({'x': 0.0, 'y': 0.0, 'spatialReference': {'wkid': WKID}})\n",
    "        pickup_loc = {'x': 0.0, 'y': 0.0}\n",
    "        dropoff_loc = {'x': 0.0, 'y': 0.0}\n",
    "        parsefailed = True\n",
    "\n",
    "    trip = {'license': license,\n",
    "            'pickup_datetime': pickup_datetime,\n",
    "            'dropoff_datetime': dropoff_datetime,\n",
    "            'pickup_loc': pickup_loc,\n",
    "            'dropoff_loc': dropoff_loc,\n",
    "            'parsefailed': parsefailed}\n",
    "\n",
    "    return Row(**trip)\n",
    "\n",
    "def parsegeo(filepath):\n",
    "    with open(filepath) as fp:\n",
    "        geojson = json.load(fp)\n",
    "        for feature in geojson['features']:\n",
    "            geometry = Polygon(feature['geometry'])\n",
    "            feature['geometry'] = geometry\n",
    "        return geojson\n",
    "\n",
    "def hours(row):\n",
    "    interval = row.dropoff_datetime - row.pickup_datetime\n",
    "    mins = interval.total_seconds() / 60.0\n",
    "    hours = mins / 60.0\n",
    "    return Row(**row.asDict(), duration_mins=mins, duration_hours=hours)\n",
    "\n",
    "def borough(row):\n",
    "    for feature in sorted_features:\n",
    "        dropoff_point = Point({**row.dropoff_loc, 'spatialReference': {'wkid': WKID}})\n",
    "        if feature['geometry'].contains(dropoff_point):\n",
    "            return Row(**row.asDict(), borough=feature['properties']['borough'])\n",
    "    return Row(**row.asDict(), borough=\"NA\")\n",
    "    \n",
    "def borough_duration(trip1, trip2):\n",
    "    duration = trip2.pickup_datetime - trip1.dropoff_datetime\n",
    "    duration_mins = duration.total_seconds() / 60.0\n",
    "    return (trip1.borough, duration_mins)\n",
    "\n",
    "def split_shifts(trip1, trip2):\n",
    "    duration = trip2.pickup_datetime - trip1.dropoff_datetime\n",
    "    duration_hours = duration.total_seconds() / 60.0 / 60.0\n",
    "    return duration_hours >= 4\n",
    "\n",
    "SparkContext.setSystemProperty('spark.executor.memory', '8g')\n",
    "sr = SpatialReference(WKID)\n",
    "\n",
    "# preprocessing\n",
    "taxi_raw = spark.read.option(\"header\", \"true\").csv(TRIPDATA)\n",
    "taxi_sample = taxi_raw.sample(withReplacement=False, fraction=0.01)\n",
    "taxi_parsed = taxi_sample.rdd.map(parserow)#.toDF()\n",
    "taxi_parsed.cache()\n",
    "\n",
    "# divide \n",
    "taxi_good = taxi_parsed.filter(lambda row: row.parsefailed == False)\n",
    "taxi_bad = taxi_parsed.filter(lambda row: row.parsefailed == True)\n",
    "\n"
   ]
  },
  {
   "cell_type": "code",
   "execution_count": 29,
   "metadata": {},
   "outputs": [
    {
     "data": {
      "text/plain": [
       "<pyspark.broadcast.Broadcast at 0x10ed56580>"
      ]
     },
     "execution_count": 29,
     "metadata": {},
     "output_type": "execute_result"
    }
   ],
   "source": [
    "geojson = parsegeo(GEOJSON)\n",
    "features = geojson['features']\n",
    "sorted_features = sorted(features, key=lambda feature: (int(feature['properties']['boroughCode']), -feature['geometry'].area))\n",
    "sc.broadcast(sorted_features)"
   ]
  },
  {
   "cell_type": "code",
   "execution_count": 26,
   "metadata": {},
   "outputs": [],
   "source": [
    "from arcgis.gis import GIS\n",
    "gis = GIS()\n",
    "nycmap = gis.map(\"New York\")\n",
    "nycmap.basemap = \"topo\""
   ]
  },
  {
   "cell_type": "code",
   "execution_count": 27,
   "metadata": {},
   "outputs": [],
   "source": [
    "def parse_points(row):\n",
    "    pickup_point = Point({**row.pickup_loc, 'spatialReference': {'wkid': WKID}})\n",
    "    dropoff_point = Point({**row.dropoff_loc, 'spatialReference': {'wkid': WKID}})\n",
    "    return pickup_point, dropoff_point\n"
   ]
  },
  {
   "cell_type": "code",
   "execution_count": 30,
   "metadata": {
    "scrolled": false
   },
   "outputs": [],
   "source": [
    "for feature in sorted_features:\n",
    "    nycmap.draw(feature['geometry'])"
   ]
  },
  {
   "cell_type": "code",
   "execution_count": 31,
   "metadata": {},
   "outputs": [
    {
     "data": {
      "application/vnd.jupyter.widget-view+json": {
       "model_id": "a308cb73c4b3427aa6939f8f05103556",
       "version_major": 2,
       "version_minor": 0
      },
      "text/plain": [
       "MapView(layout=Layout(height='400px', width='100%'))"
      ]
     },
     "metadata": {},
     "output_type": "display_data"
    },
    {
     "data": {
      "text/html": [
       "<div class=\"map-static-img-preview-8b1de6ee-e89e-4761-ac7e-883dad307ad1\"><img src=\"\"></img></div>"
      ],
      "text/plain": [
       "<IPython.core.display.HTML object>"
      ]
     },
     "metadata": {},
     "output_type": "display_data"
    }
   ],
   "source": [
    "nycmap"
   ]
  },
  {
   "cell_type": "code",
   "execution_count": 32,
   "metadata": {},
   "outputs": [],
   "source": [
    "points = taxi_done.rdd.map(parse_points).collect()\n"
   ]
  },
  {
   "cell_type": "code",
   "execution_count": 63,
   "metadata": {
    "scrolled": true
   },
   "outputs": [
    {
     "data": {
      "application/vnd.jupyter.widget-view+json": {
       "model_id": "a308cb73c4b3427aa6939f8f05103556",
       "version_major": 2,
       "version_minor": 0
      },
      "text/plain": [
       "MapView(jupyter_target='notebook', layout=Layout(height='400px', width='100%'), ready=True)"
      ]
     },
     "metadata": {},
     "output_type": "display_data"
    },
    {
     "data": {
      "text/html": [
       "<div class=\"map-static-img-preview-8b1de6ee-e89e-4761-ac7e-883dad307ad1\"><img src=\"\"></img></div>"
      ],
      "text/plain": [
       "<IPython.core.display.HTML object>"
      ]
     },
     "metadata": {},
     "output_type": "display_data"
    }
   ],
   "source": [
    "nycmap"
   ]
  },
  {
   "cell_type": "code",
   "execution_count": 64,
   "metadata": {},
   "outputs": [],
   "source": [
    "pickup_pt_sym = {\n",
    "    \"type\": \"esriSMS\",\n",
    "    \"style\": \"esriSMSDiamond\",\n",
    "    \"color\": [0, 255, 0],        \n",
    "    \"size\": 2,\n",
    "    \"angle\": 0,\n",
    "    \"xoffset\": 0,\n",
    "    \"yoffset\": 0,\n",
    "}\n",
    "dropoff_pt_sym = {\n",
    "    \"type\": \"esriSMS\",\n",
    "    \"style\": \"esriSMSDiamond\",\n",
    "    \"color\": [255,140,0,255],        \n",
    "    \"size\": 2,\n",
    "    \"angle\": 0,\n",
    "    \"xoffset\": 0,\n",
    "    \"yoffset\": 0,\n",
    "}\n",
    "\n",
    "for p in points[:300]:\n",
    "    pickup_ptr = p[0]\n",
    "    dropoff_ptr = p[1]\n",
    "    nycmap.draw(pickup_ptr, symbol=pickup_pt_sym)\n",
    "    nycmap.draw(dropoff_ptr, symbol=dropoff_pt_sym)"
   ]
  },
  {
   "cell_type": "code",
   "execution_count": null,
   "metadata": {},
   "outputs": [],
   "source": [
    "sym_poly_aoi = {\n",
    "  \"type\": \"esriSFS\",\n",
    "  \"style\": \"esriSFSSolid\",\n",
    "  \"color\": [0,0,0,0],\n",
    "    \"outline\": {\n",
    "     \"type\": \"esriSLS\",\n",
    "     \"style\": \"esriSLSSolid\",\n",
    "     \"color\": [0,255,0,255],\n",
    "     \"width\": 3}\n",
    "}\n",
    "for p in points[:300]:\n",
    "    pickup_ptr = p[0]\n",
    "    dropoff_ptr = p[1]\n",
    "    line = {\n",
    "      \"paths\" : [ [ [pickup_ptr['x'], pickup_ptr['y']], [ dropoff_ptr['x'], dropoff_ptr['y'] ] ] ],\n",
    "      \"spatialReference\" : {\"wkid\" : 4326} \n",
    "    }\n",
    "\n",
    "    nycmap.draw(Polyline(line, symbol=sym_poly_aoi))\n",
    "    "
   ]
  }
 ],
 "metadata": {
  "kernelspec": {
   "display_name": "Python 3",
   "language": "python",
   "name": "python3"
  },
  "language_info": {
   "codemirror_mode": {
    "name": "ipython",
    "version": 3
   },
   "file_extension": ".py",
   "mimetype": "text/x-python",
   "name": "python",
   "nbconvert_exporter": "python",
   "pygments_lexer": "ipython3",
   "version": "3.8.5"
  }
 },
 "nbformat": 4,
 "nbformat_minor": 4
}
